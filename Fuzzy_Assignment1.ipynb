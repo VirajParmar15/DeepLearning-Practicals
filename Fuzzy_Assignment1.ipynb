{
  "nbformat": 4,
  "nbformat_minor": 0,
  "metadata": {
    "colab": {
      "provenance": []
    },
    "kernelspec": {
      "name": "python3",
      "display_name": "Python 3"
    },
    "language_info": {
      "name": "python"
    }
  },
  "cells": [
    {
      "cell_type": "code",
      "execution_count": 8,
      "metadata": {
        "colab": {
          "base_uri": "https://localhost:8080/"
        },
        "id": "ArDCgR8Jjwcx",
        "outputId": "28f28559-7a44-4b4b-9d4e-cc9175cbff56"
      },
      "outputs": [
        {
          "output_type": "stream",
          "name": "stdout",
          "text": [
            "fuzzy setone {165: 0.0, 170: 0.0, 175: 0.0, 180: 0.2, 185: 0.5, 190: 1.0}\n",
            "fuzzy setsecond {165: 0.1, 170: 0.5, 175: 1.0, 180: 0.5, 185: 0.0, 190: 0.0}\n"
          ]
        }
      ],
      "source": [
        "tallman=dict()\n",
        "averageman=dict()\n",
        "\n",
        "tallman ={165:0.0,170:0.0,175:0.0,180:0.2,185:0.5,190:1.0}\n",
        "averageman={165:0.1,170:0.5,175:1.0,180:0.5,185:0.0,190:0.0}\n",
        "\n",
        "print(\"fuzzy setone\",tallman)\n",
        "print(\"fuzzy setsecond\",averageman)\n",
        "\n"
      ]
    },
    {
      "cell_type": "code",
      "source": [
        "#not tallman -a\n",
        "\n",
        "_A=dict()\n",
        "for A_key in tallman:\n",
        "  _A[A_key] = 1 - tallman[A_key]\n",
        "\n",
        "print(\"not tallman -a\",_A)\n"
      ],
      "metadata": {
        "colab": {
          "base_uri": "https://localhost:8080/"
        },
        "id": "xS0tn0FimAP1",
        "outputId": "5ced9ed6-a26d-4b6d-c92e-38facf890c79"
      },
      "execution_count": 4,
      "outputs": [
        {
          "output_type": "stream",
          "name": "stdout",
          "text": [
            "not tallman -a {165: 1.0, 170: 1.0, 175: 1.0, 180: 0.8, 185: 0.5, 190: 0.0}\n"
          ]
        }
      ]
    },
    {
      "cell_type": "code",
      "source": [
        "#Tall man OR average man\n",
        "tallman=dict()\n",
        "averageman=dict()\n",
        "_B=dict()\n",
        "\n",
        "tallman ={165:0.0,170:0.0,175:0.0,180:0.2,185:0.5,190:1.0}\n",
        "averageman={165:0.1,170:0.5,175:1.0,180:0.5,185:0.0,190:0.0}\n",
        "\n",
        "\n",
        "for A_key,B_key in zip(tallman,averageman):\n",
        "  if tallman[B_key] > averageman[B_key]:\n",
        "    _B[B_key] = tallman[B_key]\n",
        "  else:\n",
        "    _B[B_key] = averageman[B_key]\n",
        "\n",
        "print(\"tall man OR average man\",_B)\n"
      ],
      "metadata": {
        "colab": {
          "base_uri": "https://localhost:8080/"
        },
        "id": "dRHFt725ndba",
        "outputId": "212f17d5-8288-4605-db42-c4243f5e494f"
      },
      "execution_count": 11,
      "outputs": [
        {
          "output_type": "stream",
          "name": "stdout",
          "text": [
            "tall man OR average man {165: 0.1, 170: 0.5, 175: 1.0, 180: 0.5, 185: 0.5, 190: 1.0}\n"
          ]
        }
      ]
    },
    {
      "cell_type": "code",
      "source": [
        "#Average man AND (NOT Tall Man)\n",
        "tallman=dict()\n",
        "averageman=dict()\n",
        "nottallman=dict()\n",
        "_B=dict()\n",
        "\n",
        "tallman ={165:0.0,170:0.0,175:0.0,180:0.2,185:0.5,190:1.0}\n",
        "averageman={165:0.1,170:0.5,175:1.0,180:0.5,185:0.0,190:0.0}\n",
        "\n",
        "for A_key,B_key in zip(tallman,averageman):\n",
        "  nottallman[A_key]=1-tallman[A_key]\n",
        "  if averageman[B_key] > nottallman[A_key]:\n",
        "    _B[B_key]=nottallman[A_key]\n",
        "  else:\n",
        "    _B[B_key]=averageman[B_key]\n",
        "\n",
        "print(\"Average man AND (NOT Tall Man)\",_B)\n",
        "\n"
      ],
      "metadata": {
        "colab": {
          "base_uri": "https://localhost:8080/"
        },
        "id": "iL4LhwIMsZ_u",
        "outputId": "66b63808-037b-42c9-f0e8-99d1bc2eb4ea"
      },
      "execution_count": 12,
      "outputs": [
        {
          "output_type": "stream",
          "name": "stdout",
          "text": [
            "Average man AND (NOT Tall Man) {165: 0.1, 170: 0.5, 175: 1.0, 180: 0.5, 185: 0.0, 190: 0.0}\n"
          ]
        }
      ]
    }
  ]
}