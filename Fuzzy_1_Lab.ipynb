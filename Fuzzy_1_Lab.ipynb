{
  "nbformat": 4,
  "nbformat_minor": 0,
  "metadata": {
    "colab": {
      "provenance": []
    },
    "kernelspec": {
      "name": "python3",
      "display_name": "Python 3"
    },
    "language_info": {
      "name": "python"
    }
  },
  "cells": [
    {
      "cell_type": "code",
      "execution_count": 1,
      "metadata": {
        "colab": {
          "base_uri": "https://localhost:8080/"
        },
        "id": "-bFQbMbw4FMz",
        "outputId": "4c0c0312-5ce4-4262-b954-74ea2b8a38bd"
      },
      "outputs": [
        {
          "output_type": "stream",
          "name": "stdout",
          "text": [
            "The First Fuzzy Set is: {'a': 0.2, 'b': 0.3, 'c': 0.6, 'd': 0.6}\n",
            "The Second Fuzzy Set is: {'a': 0.9, 'b': 0.9, 'c': 0.4, 'd': 0.5}\n",
            "Fuzzy Set union is: {'a': 0.9, 'b': 0.9, 'c': 0.6, 'd': 0.6}\n"
          ]
        }
      ],
      "source": [
        "#example to demonstrate the union of two fuzzy sets\n",
        "A = dict()\n",
        "B = dict()\n",
        "Y = dict()\n",
        "A = {\"a\":0.2, \"b\":0.3, \"c\":0.6, \"d\":0.6}\n",
        "B = {\"a\":0.9, \"b\":0.9, \"c\":0.4, \"d\":0.5}\n",
        "\n",
        "print(\"The First Fuzzy Set is:\",A)\n",
        "print(\"The Second Fuzzy Set is:\",B)\n",
        "\n",
        "for A_key, B_key in zip(A, B):\n",
        "  A_value = A[A_key]\n",
        "  B_value = B[B_key]\n",
        "\n",
        "  if A_value > B_value:\n",
        "    Y[A_key] = A_value\n",
        "  else:\n",
        "    Y[B_key] = B_value\n",
        "\n",
        "print('Fuzzy Set union is:',Y)"
      ]
    },
    {
      "cell_type": "code",
      "source": [
        "#example to demonstate the intersection of two fuzzy sets\n",
        "A = dict()\n",
        "B = dict()\n",
        "C = dict()\n",
        "\n",
        "A = {\"a\":0.2,\"b\":0.3,\"c\":0.6,\"d\":0.6}\n",
        "B = {\"a\":0.9,\"b\":0.9,\"c\":0.4,\"d\":0.5}\n",
        "\n",
        "for A_key,B_key in zip(A,B):\n",
        "  A_value = A[A_key]\n",
        "  B_value = B[B_key]\n",
        "\n",
        "  if A_value < B_value:\n",
        "    C[A_key] = A_value\n",
        "  else:\n",
        "    C[B_key] = B_value\n",
        "\n",
        "print(\"Fuzzy set of intersection\",C)\n",
        "\n"
      ],
      "metadata": {
        "colab": {
          "base_uri": "https://localhost:8080/"
        },
        "id": "nmFL-9na6oO5",
        "outputId": "a01629de-f44d-4135-deb1-cd41734edbb8"
      },
      "execution_count": null,
      "outputs": [
        {
          "output_type": "stream",
          "name": "stdout",
          "text": [
            "Fuzzy set of intersection {'a': 0.2, 'b': 0.3, 'c': 0.4, 'd': 0.5}\n"
          ]
        }
      ]
    },
    {
      "cell_type": "code",
      "source": [
        "#example to demonstrate the difference of the two fuzzy sets\n",
        "A = dict()\n",
        "B = dict()\n",
        "C = dict()\n",
        "\n",
        "A={\"a\":0.2,\"b\":0.3,\"c\":0.6,\"d\":0.6}\n",
        "B={\"a\":0.9,\"b\":0.9,\"c\":0.4,\"d\":0.5}\n",
        "\n",
        "print(\"The First Fuzzy Set is :\",A)\n",
        "print(\"The Second Fuzzy Set is :\",B)\n",
        "\n",
        "for A_key, B_key in zip(A,B):\n",
        "  A_Value = A[A_key]\n",
        "  B_Value = B[B_key]\n",
        "\n",
        "  if A_Value > B_Value:\n",
        "    C_Value = A_Value - B_Value\n",
        "    C[A_key] = C_Value\n",
        "  else:\n",
        "    C_Value = B_Value - A_Value\n",
        "    C[A_key] = C_Value\n",
        "\n",
        "print(\"Fuzzy set of difference\", C)"
      ],
      "metadata": {
        "id": "RIhIiE7r9J0V",
        "colab": {
          "base_uri": "https://localhost:8080/"
        },
        "outputId": "1e5ef103-00dc-4bde-9a10-d42c8813c3c4"
      },
      "execution_count": null,
      "outputs": [
        {
          "output_type": "stream",
          "name": "stdout",
          "text": [
            "The First Fuzzy Set is : {'a': 0.2, 'b': 0.3, 'c': 0.6, 'd': 0.6}\n",
            "The Second Fuzzy Set is : {'a': 0.9, 'b': 0.9, 'c': 0.4, 'd': 0.5}\n",
            "Fuzzy set of difference {'a': 0.7, 'b': 0.6000000000000001, 'c': 0.19999999999999996, 'd': 0.09999999999999998}\n"
          ]
        }
      ]
    }
  ]
}